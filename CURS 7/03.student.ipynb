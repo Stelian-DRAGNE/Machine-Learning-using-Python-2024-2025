{
 "cells": [
  {
   "cell_type": "markdown",
   "id": "89b99960",
   "metadata": {},
   "source": [
    "https://www.kaggle.com/datasets/spscientist/students-performance-in-exams"
   ]
  },
  {
   "cell_type": "code",
   "execution_count": null,
   "id": "d0872fc3",
   "metadata": {},
   "outputs": [],
   "source": [
    "import numpy as np\n",
    "import matplotlib.pyplot as plt \n",
    "import pandas as pd"
   ]
  }
 ],
 "metadata": {
  "language_info": {
   "name": "python"
  }
 },
 "nbformat": 4,
 "nbformat_minor": 5
}
