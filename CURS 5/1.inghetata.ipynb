{
 "cells": [
  {
   "cell_type": "code",
   "execution_count": null,
   "id": "1e2e46f4",
   "metadata": {},
   "outputs": [],
   "source": [
    "import pandas as pd\n",
    "import matplotlib.pyplot as plt"
   ]
  },
  {
   "cell_type": "code",
   "execution_count": null,
   "id": "9480074c",
   "metadata": {},
   "outputs": [],
   "source": [
    "df = pd.read_csv(\"date_inghetata.csv\")\n",
    "df"
   ]
  },
  {
   "cell_type": "code",
   "execution_count": null,
   "id": "ae7ff43d",
   "metadata": {},
   "outputs": [],
   "source": [
    "x = df[\"temperatura\"]\n",
    "x"
   ]
  },
  {
   "cell_type": "code",
   "execution_count": null,
   "id": "ff3aeb9f",
   "metadata": {},
   "outputs": [],
   "source": [
    "type(x)"
   ]
  },
  {
   "cell_type": "code",
   "execution_count": null,
   "id": "5e76ae90",
   "metadata": {},
   "outputs": [],
   "source": [
    "y = df[\"vanzari\"]\n",
    "y"
   ]
  },
  {
   "cell_type": "code",
   "execution_count": null,
   "id": "12f974f5",
   "metadata": {},
   "outputs": [],
   "source": [
    "type(y)"
   ]
  },
  {
   "cell_type": "code",
   "execution_count": null,
   "id": "8500dd21",
   "metadata": {},
   "outputs": [],
   "source": [
    "plt.scatter(x, y);"
   ]
  },
  {
   "cell_type": "code",
   "execution_count": null,
   "id": "6e99c08a",
   "metadata": {},
   "outputs": [],
   "source": [
    "from sklearn.model_selection import train_test_split"
   ]
  },
  {
   "cell_type": "code",
   "execution_count": null,
   "id": "8638d3f6",
   "metadata": {},
   "outputs": [],
   "source": [
    "x_train, x_test, y_train, y_test = train_test_split(x, y, test_size=0.22)"
   ]
  },
  {
   "cell_type": "code",
   "execution_count": null,
   "id": "ab8b9805",
   "metadata": {},
   "outputs": [],
   "source": [
    "for i in x_train, x_test, y_train, y_test:\n",
    "    print(len(i), end=\",\")"
   ]
  },
  {
   "cell_type": "code",
   "execution_count": null,
   "id": "24d15445",
   "metadata": {},
   "outputs": [],
   "source": [
    "from sklearn.linear_model import LinearRegression"
   ]
  },
  {
   "cell_type": "code",
   "execution_count": null,
   "id": "2c81801b",
   "metadata": {},
   "outputs": [],
   "source": [
    "model = LinearRegression()\n",
    "model"
   ]
  },
  {
   "cell_type": "code",
   "execution_count": null,
   "id": "bc985372",
   "metadata": {},
   "outputs": [],
   "source": [
    "model.fit(x_train, y_train)"
   ]
  },
  {
   "cell_type": "code",
   "execution_count": null,
   "id": "ae1009dd",
   "metadata": {},
   "outputs": [],
   "source": [
    "import numpy as np"
   ]
  },
  {
   "cell_type": "code",
   "execution_count": null,
   "id": "1ac76954",
   "metadata": {},
   "outputs": [],
   "source": [
    "x_train = np.array(x_train).reshape(-1, 1)"
   ]
  },
  {
   "cell_type": "code",
   "execution_count": null,
   "id": "1219d42d",
   "metadata": {},
   "outputs": [],
   "source": [
    "x_test = np.array(x_test).reshape(-1, 1)"
   ]
  },
  {
   "cell_type": "code",
   "execution_count": null,
   "id": "37dca30a",
   "metadata": {},
   "outputs": [],
   "source": [
    "model.fit(x_train, y_train)"
   ]
  },
  {
   "cell_type": "markdown",
   "id": "eb612ce5",
   "metadata": {},
   "source": [
    "# Prima varianta de scor ~ 98"
   ]
  },
  {
   "cell_type": "code",
   "execution_count": null,
   "id": "9c54954d",
   "metadata": {},
   "outputs": [],
   "source": [
    "model.score(x_test, y_test)"
   ]
  },
  {
   "cell_type": "markdown",
   "id": "f00c3e0c",
   "metadata": {},
   "source": [
    "# Scalarea datelor"
   ]
  },
  {
   "cell_type": "code",
   "execution_count": null,
   "id": "23db3d77",
   "metadata": {},
   "outputs": [],
   "source": [
    "from sklearn.pipeline import Pipeline\n",
    "from sklearn.preprocessing import StandardScaler, MinMaxScaler"
   ]
  },
  {
   "cell_type": "code",
   "execution_count": null,
   "id": "5b7f25b4",
   "metadata": {},
   "outputs": [],
   "source": [
    "scaler = StandardScaler()\n",
    "scaler"
   ]
  },
  {
   "cell_type": "code",
   "execution_count": null,
   "id": "b70dc546",
   "metadata": {},
   "outputs": [],
   "source": [
    "colectie = [[5], [15], [25], [35]]"
   ]
  },
  {
   "cell_type": "code",
   "execution_count": null,
   "id": "658eea06",
   "metadata": {},
   "outputs": [],
   "source": [
    "scaler.fit_transform(colectie)"
   ]
  },
  {
   "cell_type": "code",
   "execution_count": null,
   "id": "b009d54c",
   "metadata": {},
   "outputs": [],
   "source": [
    "min_max_scaler = MinMaxScaler()\n",
    "min_max_scaler.fit_transform([[5], [105], [25], [35]])"
   ]
  },
  {
   "cell_type": "code",
   "execution_count": null,
   "id": "a2f3de75",
   "metadata": {},
   "outputs": [],
   "source": [
    "min_max_scaler = MinMaxScaler()\n",
    "min_max_scaler.fit_transform([[22], [17], [44], [121]])"
   ]
  },
  {
   "cell_type": "markdown",
   "id": "03f57d9a",
   "metadata": {},
   "source": [
    "# Reantrenare cu date scalate"
   ]
  },
  {
   "cell_type": "code",
   "execution_count": null,
   "id": "f14a75ca",
   "metadata": {},
   "outputs": [],
   "source": [
    "model = LinearRegression()\n",
    "model"
   ]
  },
  {
   "cell_type": "code",
   "execution_count": null,
   "id": "6a2d8930",
   "metadata": {},
   "outputs": [],
   "source": [
    "standard_scaler = StandardScaler()\n",
    "standard_scaler"
   ]
  },
  {
   "cell_type": "code",
   "execution_count": null,
   "id": "8cc6739f",
   "metadata": {},
   "outputs": [],
   "source": [
    "x_train_scaled = standard_scaler.fit_transform(x_train)"
   ]
  },
  {
   "cell_type": "code",
   "execution_count": null,
   "id": "e18318ca",
   "metadata": {},
   "outputs": [],
   "source": [
    "model.fit()"
   ]
  },
  {
   "cell_type": "code",
   "execution_count": null,
   "id": "ee62aa57",
   "metadata": {},
   "outputs": [],
   "source": [
    "x_train.min(), x_train.max()"
   ]
  },
  {
   "cell_type": "code",
   "execution_count": null,
   "id": "313c9c72",
   "metadata": {},
   "outputs": [],
   "source": [
    "pipeline = Pipeline([(\"scaler\", StandardScaler()), (\"model\", LinearRegression())])\n",
    "pipeline"
   ]
  },
  {
   "cell_type": "code",
   "execution_count": null,
   "id": "eb00421b",
   "metadata": {},
   "outputs": [],
   "source": [
    "pipeline.fit(x_train, y_train)"
   ]
  },
  {
   "cell_type": "code",
   "execution_count": null,
   "id": "86903b31",
   "metadata": {},
   "outputs": [],
   "source": [
    "pipeline.predict([[46]])"
   ]
  },
  {
   "cell_type": "code",
   "execution_count": null,
   "id": "9cbb322a",
   "metadata": {},
   "outputs": [],
   "source": [
    "pipeline.score(x_test, y_test)"
   ]
  },
  {
   "cell_type": "markdown",
   "id": "278827c9",
   "metadata": {},
   "source": [
    "# Pipeline cu KNN"
   ]
  },
  {
   "cell_type": "code",
   "execution_count": null,
   "id": "f3f6cd7c",
   "metadata": {},
   "outputs": [],
   "source": [
    "from sklearn.neighbors import KNeighborsRegressor"
   ]
  },
  {
   "cell_type": "code",
   "execution_count": null,
   "id": "c42f0162",
   "metadata": {},
   "outputs": [],
   "source": [
    "knn_pipeline = Pipeline([(\"scale\", StandardScaler()), (\"model\", KNeighborsRegressor())])\n",
    "knn_pipeline"
   ]
  },
  {
   "cell_type": "code",
   "execution_count": null,
   "id": "baa460ab",
   "metadata": {},
   "outputs": [],
   "source": [
    "knn_pipeline.fit(x_train, y_train)"
   ]
  },
  {
   "cell_type": "code",
   "execution_count": null,
   "id": "fb1acf40",
   "metadata": {},
   "outputs": [],
   "source": [
    "knn_pipeline.score(x_test, y_test)"
   ]
  },
  {
   "cell_type": "code",
   "execution_count": null,
   "id": "49784199",
   "metadata": {},
   "outputs": [],
   "source": [
    "from sklearn.ensemble import RandomForestRegressor"
   ]
  },
  {
   "cell_type": "code",
   "execution_count": null,
   "id": "374c54cb",
   "metadata": {},
   "outputs": [],
   "source": [
    "random_forest_pipeline = Pipeline([(\"scale\", StandardScaler()), (\"model\", RandomForestRegressor())])\n",
    "random_forest_pipeline"
   ]
  },
  {
   "cell_type": "code",
   "execution_count": null,
   "id": "5f5b52fe",
   "metadata": {},
   "outputs": [],
   "source": [
    "random_forest_pipeline.fit(x_train, y_train)"
   ]
  },
  {
   "cell_type": "code",
   "execution_count": null,
   "id": "faea2bc0",
   "metadata": {},
   "outputs": [],
   "source": [
    "random_forest_pipeline.score(x_test, y_test)"
   ]
  },
  {
   "cell_type": "code",
   "execution_count": null,
   "id": "487fa59a",
   "metadata": {},
   "outputs": [],
   "source": [
    "random_forest_pipeline"
   ]
  }
 ],
 "metadata": {
  "kernelspec": {
   "display_name": "Python 3",
   "language": "python",
   "name": "python3"
  },
  "language_info": {
   "codemirror_mode": {
    "name": "ipython",
    "version": 3
   },
   "file_extension": ".py",
   "mimetype": "text/x-python",
   "name": "python",
   "nbconvert_exporter": "python",
   "pygments_lexer": "ipython3",
   "version": "3.13.5"
  }
 },
 "nbformat": 4,
 "nbformat_minor": 5
}
